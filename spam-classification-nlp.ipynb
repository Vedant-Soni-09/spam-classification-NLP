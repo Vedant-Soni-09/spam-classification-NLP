{
 "cells": [
  {
   "cell_type": "markdown",
   "metadata": {
    "papermill": {
     "duration": 0.025496,
     "end_time": "2020-10-09T04:37:21.045069",
     "exception": false,
     "start_time": "2020-10-09T04:37:21.019573",
     "status": "completed"
    },
    "tags": []
   },
   "source": [
    "# Spam Classification using NLP"
   ]
  },
  {
   "cell_type": "markdown",
   "metadata": {
    "papermill": {
     "duration": 0.022411,
     "end_time": "2020-10-09T04:37:21.093796",
     "exception": false,
     "start_time": "2020-10-09T04:37:21.071385",
     "status": "completed"
    },
    "tags": []
   },
   "source": [
    "## Import Libraries"
   ]
  },
  {
   "cell_type": "code",
   "execution_count": 1,
   "metadata": {
    "_cell_guid": "b1076dfc-b9ad-4769-8c92-a6c4dae69d19",
    "_uuid": "8f2839f25d086af736a60e9eeb907d3b93b6e0e5",
    "execution": {
     "iopub.execute_input": "2020-10-09T04:37:21.146455Z",
     "iopub.status.busy": "2020-10-09T04:37:21.145569Z",
     "iopub.status.idle": "2020-10-09T04:37:23.085033Z",
     "shell.execute_reply": "2020-10-09T04:37:23.084033Z"
    },
    "papermill": {
     "duration": 1.968427,
     "end_time": "2020-10-09T04:37:23.085210",
     "exception": false,
     "start_time": "2020-10-09T04:37:21.116783",
     "status": "completed"
    },
    "tags": []
   },
   "outputs": [],
   "source": [
    "import numpy as np\n",
    "import pandas as pd\n",
    "import sklearn\n",
    "import nltk"
   ]
  },
  {
   "cell_type": "markdown",
   "metadata": {
    "papermill": {
     "duration": 0.022312,
     "end_time": "2020-10-09T04:37:23.131321",
     "exception": false,
     "start_time": "2020-10-09T04:37:23.109009",
     "status": "completed"
    },
    "tags": []
   },
   "source": [
    "## Import Data"
   ]
  },
  {
   "cell_type": "code",
   "execution_count": 2,
   "metadata": {
    "_cell_guid": "79c7e3d0-c299-4dcb-8224-4455121ee9b0",
    "_uuid": "d629ff2d2480ee46fbb7e2d37f6b5fab8052498a",
    "execution": {
     "iopub.execute_input": "2020-10-09T04:37:23.189328Z",
     "iopub.status.busy": "2020-10-09T04:37:23.188346Z",
     "iopub.status.idle": "2020-10-09T04:37:23.233324Z",
     "shell.execute_reply": "2020-10-09T04:37:23.232498Z"
    },
    "papermill": {
     "duration": 0.079373,
     "end_time": "2020-10-09T04:37:23.233468",
     "exception": false,
     "start_time": "2020-10-09T04:37:23.154095",
     "status": "completed"
    },
    "tags": []
   },
   "outputs": [],
   "source": [
    "csv = pd.read_csv('../input/sms-spam-collection-dataset/spam.csv', encoding=\"ISO-8859-1\")\n",
    "df = pd.DataFrame(csv)"
   ]
  },
  {
   "cell_type": "code",
   "execution_count": 3,
   "metadata": {
    "execution": {
     "iopub.execute_input": "2020-10-09T04:37:23.295442Z",
     "iopub.status.busy": "2020-10-09T04:37:23.294682Z",
     "iopub.status.idle": "2020-10-09T04:37:23.299596Z",
     "shell.execute_reply": "2020-10-09T04:37:23.298451Z"
    },
    "papermill": {
     "duration": 0.043606,
     "end_time": "2020-10-09T04:37:23.299777",
     "exception": false,
     "start_time": "2020-10-09T04:37:23.256171",
     "status": "completed"
    },
    "tags": []
   },
   "outputs": [
    {
     "name": "stdout",
     "output_type": "stream",
     "text": [
      "ham     4825\n",
      "spam     747\n",
      "Name: v1, dtype: int64\n"
     ]
    }
   ],
   "source": [
    "# check class distribution\n",
    "classes = df[df.columns[0]]\n",
    "print(classes.value_counts())"
   ]
  },
  {
   "cell_type": "markdown",
   "metadata": {
    "papermill": {
     "duration": 0.022634,
     "end_time": "2020-10-09T04:37:23.347290",
     "exception": false,
     "start_time": "2020-10-09T04:37:23.324656",
     "status": "completed"
    },
    "tags": []
   },
   "source": [
    "## Preprocess the Data"
   ]
  },
  {
   "cell_type": "markdown",
   "metadata": {
    "papermill": {
     "duration": 0.022726,
     "end_time": "2020-10-09T04:37:23.393135",
     "exception": false,
     "start_time": "2020-10-09T04:37:23.370409",
     "status": "completed"
    },
    "tags": []
   },
   "source": [
    "Data exploration/data cleaning"
   ]
  },
  {
   "cell_type": "code",
   "execution_count": 4,
   "metadata": {
    "execution": {
     "iopub.execute_input": "2020-10-09T04:37:23.453097Z",
     "iopub.status.busy": "2020-10-09T04:37:23.452343Z",
     "iopub.status.idle": "2020-10-09T04:37:23.455494Z",
     "shell.execute_reply": "2020-10-09T04:37:23.456365Z"
    },
    "papermill": {
     "duration": 0.040155,
     "end_time": "2020-10-09T04:37:23.456578",
     "exception": false,
     "start_time": "2020-10-09T04:37:23.416423",
     "status": "completed"
    },
    "tags": []
   },
   "outputs": [
    {
     "name": "stdout",
     "output_type": "stream",
     "text": [
      "0     ham\n",
      "1     ham\n",
      "2    spam\n",
      "3     ham\n",
      "4     ham\n",
      "5    spam\n",
      "6     ham\n",
      "7     ham\n",
      "8    spam\n",
      "9    spam\n",
      "Name: v1, dtype: object\n",
      "[0 0 1 0 0 1 0 0 1 1]\n"
     ]
    }
   ],
   "source": [
    "# convert class labels to binary values, 0 = ham  1 = spam\n",
    "\n",
    "from sklearn.preprocessing import LabelEncoder\n",
    "\n",
    "encoder = LabelEncoder()\n",
    "Y = encoder.fit_transform(classes)\n",
    "\n",
    "# quick check\n",
    "print(classes[:10])\n",
    "print(Y[:10])"
   ]
  },
  {
   "cell_type": "code",
   "execution_count": 5,
   "metadata": {
    "execution": {
     "iopub.execute_input": "2020-10-09T04:37:23.513725Z",
     "iopub.status.busy": "2020-10-09T04:37:23.512638Z",
     "iopub.status.idle": "2020-10-09T04:37:23.516504Z",
     "shell.execute_reply": "2020-10-09T04:37:23.517090Z"
    },
    "papermill": {
     "duration": 0.036482,
     "end_time": "2020-10-09T04:37:23.517290",
     "exception": false,
     "start_time": "2020-10-09T04:37:23.480808",
     "status": "completed"
    },
    "tags": []
   },
   "outputs": [
    {
     "name": "stdout",
     "output_type": "stream",
     "text": [
      "0    Go until jurong point, crazy.. Available only ...\n",
      "1                        Ok lar... Joking wif u oni...\n",
      "2    Free entry in 2 a wkly comp to win FA Cup fina...\n",
      "3    U dun say so early hor... U c already then say...\n",
      "4    Nah I don't think he goes to usf, he lives aro...\n",
      "5    FreeMsg Hey there darling it's been 3 week's n...\n",
      "6    Even my brother is not like to speak with me. ...\n",
      "7    As per your request 'Melle Melle (Oru Minnamin...\n",
      "8    WINNER!! As a valued network customer you have...\n",
      "9    Had your mobile 11 months or more? U R entitle...\n",
      "Name: v2, dtype: object\n"
     ]
    }
   ],
   "source": [
    "# store SMS message data\n",
    "text_messages = df[df.columns[1]]\n",
    "print(text_messages[:10])"
   ]
  },
  {
   "cell_type": "code",
   "execution_count": 6,
   "metadata": {
    "execution": {
     "iopub.execute_input": "2020-10-09T04:37:23.597761Z",
     "iopub.status.busy": "2020-10-09T04:37:23.588188Z",
     "iopub.status.idle": "2020-10-09T04:37:23.672590Z",
     "shell.execute_reply": "2020-10-09T04:37:23.671688Z"
    },
    "papermill": {
     "duration": 0.130161,
     "end_time": "2020-10-09T04:37:23.672755",
     "exception": false,
     "start_time": "2020-10-09T04:37:23.542594",
     "status": "completed"
    },
    "tags": []
   },
   "outputs": [],
   "source": [
    "# expressions can be found at https://regexlib.com/\n",
    "# use regular expressions to replace email addresses, urls, phone numbers, etc.\n",
    "\n",
    "# replace email addresses with 'emailaddr\n",
    "processed = text_messages.str.replace(r'^\\w+@[a-zA-Z_]+?\\.[a-zA-Z]{2,3}$', 'emailaddr')\n",
    "\n",
    "# replace urls with 'webaddress'\n",
    "processed = processed.str.replace(r'^http\\://[a-zA-Z0-9\\-\\.]+\\.[a-zA-Z]{2,3}(/\\S*)?$','webaddress')\n",
    "# replace money symbols with 'moneysymb'\n",
    "processed = text_messages.str.replace(r'£|\\$', 'moneysymb')\n",
    "\n",
    "# replace 10 digit phone numbers with 'phonenum'\n",
    "processed = text_messages.str.replace(r'^[2-9]\\d{2}-\\d{3}-\\d{4}$', 'phonenum')\n",
    "\n",
    "# replace normal numbers with 'num'\n",
    "processed = text_messages.str.replace(r'\\d+(\\.\\d+)?', 'num')"
   ]
  },
  {
   "cell_type": "code",
   "execution_count": 7,
   "metadata": {
    "execution": {
     "iopub.execute_input": "2020-10-09T04:37:23.732341Z",
     "iopub.status.busy": "2020-10-09T04:37:23.731139Z",
     "iopub.status.idle": "2020-10-09T04:37:23.895618Z",
     "shell.execute_reply": "2020-10-09T04:37:23.896254Z"
    },
    "papermill": {
     "duration": 0.198705,
     "end_time": "2020-10-09T04:37:23.896441",
     "exception": false,
     "start_time": "2020-10-09T04:37:23.697736",
     "status": "completed"
    },
    "tags": []
   },
   "outputs": [],
   "source": [
    "# remove punctuation\n",
    "processed = processed.str.replace(r'[^\\w\\d\\s]', ' ')\n",
    "\n",
    "# replace whitespace between terms with a single space\n",
    "processed = processed.str.replace(r'\\s+', ' ')\n",
    "\n",
    "# remove leading and trailing whitespace\n",
    "processed = processed.str.replace(r'^\\s+|\\s+?$', '')"
   ]
  },
  {
   "cell_type": "code",
   "execution_count": 8,
   "metadata": {
    "execution": {
     "iopub.execute_input": "2020-10-09T04:37:23.964273Z",
     "iopub.status.busy": "2020-10-09T04:37:23.963257Z",
     "iopub.status.idle": "2020-10-09T04:37:23.968057Z",
     "shell.execute_reply": "2020-10-09T04:37:23.968651Z"
    },
    "papermill": {
     "duration": 0.047602,
     "end_time": "2020-10-09T04:37:23.968803",
     "exception": false,
     "start_time": "2020-10-09T04:37:23.921201",
     "status": "completed"
    },
    "tags": []
   },
   "outputs": [
    {
     "data": {
      "text/plain": [
       "0    go until jurong point crazy available only in ...\n",
       "1                              ok lar joking wif u oni\n",
       "2    free entry in num a wkly comp to win fa cup fi...\n",
       "3          u dun say so early hor u c already then say\n",
       "4    nah i don t think he goes to usf he lives arou...\n",
       "Name: v2, dtype: object"
      ]
     },
     "execution_count": 8,
     "metadata": {},
     "output_type": "execute_result"
    }
   ],
   "source": [
    "# change all words to lower case\n",
    "processed = processed.str.lower()\n",
    "processed.head()"
   ]
  },
  {
   "cell_type": "code",
   "execution_count": 9,
   "metadata": {
    "execution": {
     "iopub.execute_input": "2020-10-09T04:37:24.037388Z",
     "iopub.status.busy": "2020-10-09T04:37:24.036440Z",
     "iopub.status.idle": "2020-10-09T04:37:24.090212Z",
     "shell.execute_reply": "2020-10-09T04:37:24.089216Z"
    },
    "papermill": {
     "duration": 0.096233,
     "end_time": "2020-10-09T04:37:24.090426",
     "exception": false,
     "start_time": "2020-10-09T04:37:23.994193",
     "status": "completed"
    },
    "tags": []
   },
   "outputs": [],
   "source": [
    "from nltk.corpus import stopwords\n",
    "\n",
    "# remove stop words from text messages\n",
    "# stop words are basically a set of commonly used words in any language such as i, me, to, it, etc.\n",
    "\n",
    "stop_words = set(stopwords.words('english'))\n",
    "\n",
    "processed = processed.apply(lambda x: ' '.join(\n",
    "    term for term in x.split() if term not in stop_words))"
   ]
  },
  {
   "cell_type": "code",
   "execution_count": 10,
   "metadata": {
    "execution": {
     "iopub.execute_input": "2020-10-09T04:37:24.170818Z",
     "iopub.status.busy": "2020-10-09T04:37:24.169749Z",
     "iopub.status.idle": "2020-10-09T04:37:26.157811Z",
     "shell.execute_reply": "2020-10-09T04:37:26.158400Z"
    },
    "papermill": {
     "duration": 2.032758,
     "end_time": "2020-10-09T04:37:26.158582",
     "exception": false,
     "start_time": "2020-10-09T04:37:24.125824",
     "status": "completed"
    },
    "tags": []
   },
   "outputs": [
    {
     "data": {
      "text/plain": [
       "0    go jurong point crazi avail bugi n great world...\n",
       "1                                ok lar joke wif u oni\n",
       "2    free entri num wkli comp win fa cup final tkt ...\n",
       "3                  u dun say earli hor u c alreadi say\n",
       "4                 nah think goe usf live around though\n",
       "Name: v2, dtype: object"
      ]
     },
     "execution_count": 10,
     "metadata": {},
     "output_type": "execute_result"
    }
   ],
   "source": [
    "# remove word stems using a Porter stemmer\n",
    "# stemming is the process of reducing a word to its word stem such as removing -ing\n",
    "ps = nltk.PorterStemmer()\n",
    "\n",
    "processed = processed.apply(lambda x: ' '.join(\n",
    "    ps.stem(term) for term in x.split()))\n",
    "\n",
    "processed.head()"
   ]
  },
  {
   "cell_type": "markdown",
   "metadata": {
    "papermill": {
     "duration": 0.026126,
     "end_time": "2020-10-09T04:37:26.211911",
     "exception": false,
     "start_time": "2020-10-09T04:37:26.185785",
     "status": "completed"
    },
    "tags": []
   },
   "source": [
    "## Tokenization"
   ]
  },
  {
   "cell_type": "code",
   "execution_count": 11,
   "metadata": {
    "execution": {
     "iopub.execute_input": "2020-10-09T04:37:26.272305Z",
     "iopub.status.busy": "2020-10-09T04:37:26.271491Z",
     "iopub.status.idle": "2020-10-09T04:37:27.358272Z",
     "shell.execute_reply": "2020-10-09T04:37:27.357523Z"
    },
    "papermill": {
     "duration": 1.120255,
     "end_time": "2020-10-09T04:37:27.358421",
     "exception": false,
     "start_time": "2020-10-09T04:37:26.238166",
     "status": "completed"
    },
    "tags": []
   },
   "outputs": [],
   "source": [
    "from nltk.tokenize import word_tokenize\n",
    "\n",
    "# create bag-of-words\n",
    "all_words = []\n",
    "\n",
    "for message in processed:\n",
    "    words = word_tokenize(message)\n",
    "    for w in words:\n",
    "        all_words.append(w)\n",
    "\n",
    "# FreqDist class is used to encode “frequency distributions”, which count the number of times that each outcome of an experiment occurs\n",
    "\n",
    "all_words = nltk.FreqDist(all_words)"
   ]
  },
  {
   "cell_type": "code",
   "execution_count": 12,
   "metadata": {
    "execution": {
     "iopub.execute_input": "2020-10-09T04:37:27.421509Z",
     "iopub.status.busy": "2020-10-09T04:37:27.420480Z",
     "iopub.status.idle": "2020-10-09T04:37:27.427142Z",
     "shell.execute_reply": "2020-10-09T04:37:27.426504Z"
    },
    "papermill": {
     "duration": 0.042004,
     "end_time": "2020-10-09T04:37:27.427312",
     "exception": false,
     "start_time": "2020-10-09T04:37:27.385308",
     "status": "completed"
    },
    "tags": []
   },
   "outputs": [
    {
     "name": "stdout",
     "output_type": "stream",
     "text": [
      "Number of words: 6534\n",
      "Most common words: [('num', 2959), ('u', 1192), ('call', 672), ('go', 453), ('get', 452), ('ur', 385), ('gt', 318), ('lt', 316), ('å', 303), ('come', 301)]\n"
     ]
    }
   ],
   "source": [
    "# print the total number of words and the 15 most common words\n",
    "print('Number of words: {}'.format(len(all_words)))\n",
    "print('Most common words: {}'.format(all_words.most_common(10)))"
   ]
  },
  {
   "cell_type": "code",
   "execution_count": 13,
   "metadata": {
    "execution": {
     "iopub.execute_input": "2020-10-09T04:37:27.488959Z",
     "iopub.status.busy": "2020-10-09T04:37:27.487865Z",
     "iopub.status.idle": "2020-10-09T04:37:27.491575Z",
     "shell.execute_reply": "2020-10-09T04:37:27.490795Z"
    },
    "papermill": {
     "duration": 0.036914,
     "end_time": "2020-10-09T04:37:27.491719",
     "exception": false,
     "start_time": "2020-10-09T04:37:27.454805",
     "status": "completed"
    },
    "tags": []
   },
   "outputs": [],
   "source": [
    "# use the 1500 most common words as features\n",
    "word_features = list(all_words.keys())[:1500]"
   ]
  },
  {
   "cell_type": "code",
   "execution_count": 14,
   "metadata": {
    "execution": {
     "iopub.execute_input": "2020-10-09T04:37:27.557288Z",
     "iopub.status.busy": "2020-10-09T04:37:27.556416Z",
     "iopub.status.idle": "2020-10-09T04:37:27.562705Z",
     "shell.execute_reply": "2020-10-09T04:37:27.563596Z"
    },
    "papermill": {
     "duration": 0.04453,
     "end_time": "2020-10-09T04:37:27.563839",
     "exception": false,
     "start_time": "2020-10-09T04:37:27.519309",
     "status": "completed"
    },
    "tags": []
   },
   "outputs": [
    {
     "name": "stdout",
     "output_type": "stream",
     "text": [
      "go\n",
      "jurong\n",
      "point\n",
      "crazi\n",
      "avail\n",
      "bugi\n",
      "n\n",
      "great\n",
      "world\n",
      "la\n",
      "e\n",
      "buffet\n",
      "cine\n",
      "got\n",
      "amor\n",
      "wat\n"
     ]
    }
   ],
   "source": [
    "# find_features function will determine which of the 1500 word features are contained in the email/message\n",
    "def find_features(message):\n",
    "    words = word_tokenize(message)\n",
    "    features = {}\n",
    "    for word in word_features:\n",
    "        features[word] = (word in words)\n",
    "\n",
    "    return features\n",
    "\n",
    "# example\n",
    "features = find_features(processed[0])\n",
    "for key, value in features.items():\n",
    "    if value == True:\n",
    "        print(key)"
   ]
  },
  {
   "cell_type": "markdown",
   "metadata": {
    "papermill": {
     "duration": 0.027724,
     "end_time": "2020-10-09T04:37:27.619954",
     "exception": false,
     "start_time": "2020-10-09T04:37:27.592230",
     "status": "completed"
    },
    "tags": []
   },
   "source": [
    "The above words are key words that were saved as apart of the features (aka most common words) list that were found in the very first message."
   ]
  },
  {
   "cell_type": "code",
   "execution_count": 15,
   "metadata": {
    "execution": {
     "iopub.execute_input": "2020-10-09T04:37:27.702515Z",
     "iopub.status.busy": "2020-10-09T04:37:27.691863Z",
     "iopub.status.idle": "2020-10-09T04:37:31.885807Z",
     "shell.execute_reply": "2020-10-09T04:37:31.885081Z"
    },
    "papermill": {
     "duration": 4.237981,
     "end_time": "2020-10-09T04:37:31.886003",
     "exception": false,
     "start_time": "2020-10-09T04:37:27.648022",
     "status": "completed"
    },
    "tags": []
   },
   "outputs": [],
   "source": [
    "# do it for all the messages\n",
    "messages = list(zip(processed, Y))\n",
    "\n",
    "# define a seed for reproducibility\n",
    "seed = 1\n",
    "np.random.seed = seed\n",
    "np.random.shuffle(messages)\n",
    "\n",
    "# call find_features function for each SMS message\n",
    "featuresets = [(find_features(text), label) for (text, label) in messages]"
   ]
  },
  {
   "cell_type": "markdown",
   "metadata": {
    "papermill": {
     "duration": 0.028872,
     "end_time": "2020-10-09T04:37:31.944886",
     "exception": false,
     "start_time": "2020-10-09T04:37:31.916014",
     "status": "completed"
    },
    "tags": []
   },
   "source": [
    "Split data into testing and training sets."
   ]
  },
  {
   "cell_type": "code",
   "execution_count": 16,
   "metadata": {
    "execution": {
     "iopub.execute_input": "2020-10-09T04:37:32.012325Z",
     "iopub.status.busy": "2020-10-09T04:37:32.011201Z",
     "iopub.status.idle": "2020-10-09T04:37:32.014721Z",
     "shell.execute_reply": "2020-10-09T04:37:32.014065Z"
    },
    "papermill": {
     "duration": 0.041524,
     "end_time": "2020-10-09T04:37:32.014865",
     "exception": false,
     "start_time": "2020-10-09T04:37:31.973341",
     "status": "completed"
    },
    "tags": []
   },
   "outputs": [],
   "source": [
    "from sklearn import model_selection\n",
    "\n",
    "# split the data into training and testing datasets\n",
    "training, testing = model_selection.train_test_split(featuresets, test_size = 0.25, random_state=seed)"
   ]
  },
  {
   "cell_type": "code",
   "execution_count": 17,
   "metadata": {
    "execution": {
     "iopub.execute_input": "2020-10-09T04:37:32.079795Z",
     "iopub.status.busy": "2020-10-09T04:37:32.078966Z",
     "iopub.status.idle": "2020-10-09T04:37:32.084900Z",
     "shell.execute_reply": "2020-10-09T04:37:32.084083Z"
    },
    "papermill": {
     "duration": 0.041488,
     "end_time": "2020-10-09T04:37:32.085039",
     "exception": false,
     "start_time": "2020-10-09T04:37:32.043551",
     "status": "completed"
    },
    "tags": []
   },
   "outputs": [
    {
     "name": "stdout",
     "output_type": "stream",
     "text": [
      "Training: 4179\n",
      "Testing: 1393\n"
     ]
    }
   ],
   "source": [
    "print('Training:',len(training))\n",
    "print('Testing:',len(testing))"
   ]
  },
  {
   "cell_type": "markdown",
   "metadata": {
    "papermill": {
     "duration": 0.028441,
     "end_time": "2020-10-09T04:37:32.141972",
     "exception": false,
     "start_time": "2020-10-09T04:37:32.113531",
     "status": "completed"
    },
    "tags": []
   },
   "source": [
    "## Algorithms\n",
    "## Scikit-Learn Classifiers with NLTK"
   ]
  },
  {
   "cell_type": "code",
   "execution_count": 18,
   "metadata": {
    "execution": {
     "iopub.execute_input": "2020-10-09T04:37:32.266143Z",
     "iopub.status.busy": "2020-10-09T04:37:32.235008Z",
     "iopub.status.idle": "2020-10-09T04:37:48.630847Z",
     "shell.execute_reply": "2020-10-09T04:37:48.630091Z"
    },
    "papermill": {
     "duration": 16.459689,
     "end_time": "2020-10-09T04:37:48.630980",
     "exception": false,
     "start_time": "2020-10-09T04:37:32.171291",
     "status": "completed"
    },
    "tags": []
   },
   "outputs": [
    {
     "name": "stdout",
     "output_type": "stream",
     "text": [
      "SVC Accuracy: 98.42067480258436\n"
     ]
    }
   ],
   "source": [
    "from nltk.classify.scikitlearn import SklearnClassifier\n",
    "from sklearn.svm import SVC\n",
    "\n",
    "model = SklearnClassifier(SVC(kernel = 'linear'))\n",
    "\n",
    "# train the model on the training data\n",
    "model.train(training)\n",
    "\n",
    "# and test on the testing dataset!\n",
    "accuracy = nltk.classify.accuracy(model, testing)*100\n",
    "print(\"SVC Accuracy: {}\".format(accuracy))"
   ]
  },
  {
   "cell_type": "code",
   "execution_count": 19,
   "metadata": {
    "execution": {
     "iopub.execute_input": "2020-10-09T04:37:48.701300Z",
     "iopub.status.busy": "2020-10-09T04:37:48.699947Z",
     "iopub.status.idle": "2020-10-09T04:39:16.610858Z",
     "shell.execute_reply": "2020-10-09T04:39:16.611753Z"
    },
    "papermill": {
     "duration": 87.951926,
     "end_time": "2020-10-09T04:39:16.611982",
     "exception": false,
     "start_time": "2020-10-09T04:37:48.660056",
     "status": "completed"
    },
    "tags": []
   },
   "outputs": [
    {
     "name": "stdout",
     "output_type": "stream",
     "text": [
      "K Nearest Neighbors Accuracy: 95.33381191672649\n",
      "Decision Tree Accuracy: 97.4156496769562\n",
      "Random Forest Accuracy: 98.27709978463747\n",
      "Logistic Regression Accuracy: 98.63603732950466\n"
     ]
    }
   ],
   "source": [
    "from sklearn.neighbors import KNeighborsClassifier\n",
    "from sklearn.tree import DecisionTreeClassifier\n",
    "from sklearn.ensemble import RandomForestClassifier\n",
    "from sklearn.linear_model import LogisticRegression\n",
    "from sklearn.metrics import classification_report, accuracy_score, confusion_matrix\n",
    "\n",
    "# define models to train\n",
    "names = [\"K Nearest Neighbors\", \"Decision Tree\", \"Random Forest\", \"Logistic Regression\"]\n",
    "\n",
    "classifiers = [\n",
    "    KNeighborsClassifier(),\n",
    "    DecisionTreeClassifier(),\n",
    "    RandomForestClassifier(),\n",
    "    LogisticRegression()\n",
    "]\n",
    "\n",
    "models = zip(names, classifiers)\n",
    "\n",
    "for name, model in models:\n",
    "    nltk_model = SklearnClassifier(model)\n",
    "    nltk_model.train(training)\n",
    "    accuracy = nltk.classify.accuracy(nltk_model, testing)*100\n",
    "    print(\"{} Accuracy: {}\".format(name, accuracy))"
   ]
  },
  {
   "cell_type": "code",
   "execution_count": 20,
   "metadata": {
    "execution": {
     "iopub.execute_input": "2020-10-09T04:39:16.711017Z",
     "iopub.status.busy": "2020-10-09T04:39:16.690449Z",
     "iopub.status.idle": "2020-10-09T04:39:37.101906Z",
     "shell.execute_reply": "2020-10-09T04:39:37.101262Z"
    },
    "papermill": {
     "duration": 20.457568,
     "end_time": "2020-10-09T04:39:37.102035",
     "exception": false,
     "start_time": "2020-10-09T04:39:16.644467",
     "status": "completed"
    },
    "tags": []
   },
   "outputs": [
    {
     "name": "stdout",
     "output_type": "stream",
     "text": [
      "Voting Classifier: Accuracy: 98.63603732950466\n"
     ]
    }
   ],
   "source": [
    "# ensemble methods - Voting classifier\n",
    "from sklearn.ensemble import VotingClassifier\n",
    "\n",
    "names = [\"K Nearest Neighbors\", \"Decision Tree\", \"Random Forest\", \"Logistic Regression\"]\n",
    "\n",
    "classifiers = [\n",
    "    KNeighborsClassifier(),\n",
    "    DecisionTreeClassifier(),\n",
    "    RandomForestClassifier(),\n",
    "    LogisticRegression()\n",
    "]\n",
    "\n",
    "models = list(zip(names, classifiers))\n",
    "\n",
    "nltk_ensemble = SklearnClassifier(VotingClassifier(estimators = models, voting = 'hard', n_jobs = -1))\n",
    "nltk_ensemble.train(training)\n",
    "accuracy = nltk.classify.accuracy(nltk_model, testing)*100\n",
    "print(\"Voting Classifier: Accuracy: {}\".format(accuracy))"
   ]
  },
  {
   "cell_type": "code",
   "execution_count": 21,
   "metadata": {
    "execution": {
     "iopub.execute_input": "2020-10-09T04:39:37.190871Z",
     "iopub.status.busy": "2020-10-09T04:39:37.175085Z",
     "iopub.status.idle": "2020-10-09T04:40:20.225043Z",
     "shell.execute_reply": "2020-10-09T04:40:20.224328Z"
    },
    "papermill": {
     "duration": 43.091302,
     "end_time": "2020-10-09T04:40:20.225216",
     "exception": false,
     "start_time": "2020-10-09T04:39:37.133914",
     "status": "completed"
    },
    "tags": []
   },
   "outputs": [],
   "source": [
    "# class label prediction for testing set\n",
    "txt_features, labels = zip(*testing)\n",
    "\n",
    "prediction = nltk_ensemble.classify_many(txt_features)"
   ]
  },
  {
   "cell_type": "code",
   "execution_count": 22,
   "metadata": {
    "execution": {
     "iopub.execute_input": "2020-10-09T04:40:20.298856Z",
     "iopub.status.busy": "2020-10-09T04:40:20.297450Z",
     "iopub.status.idle": "2020-10-09T04:40:20.337339Z",
     "shell.execute_reply": "2020-10-09T04:40:20.336746Z"
    },
    "papermill": {
     "duration": 0.079817,
     "end_time": "2020-10-09T04:40:20.337490",
     "exception": false,
     "start_time": "2020-10-09T04:40:20.257673",
     "status": "completed"
    },
    "tags": []
   },
   "outputs": [
    {
     "name": "stdout",
     "output_type": "stream",
     "text": [
      "              precision    recall  f1-score   support\n",
      "\n",
      "           0       0.98      1.00      0.99      1223\n",
      "           1       1.00      0.84      0.91       170\n",
      "\n",
      "    accuracy                           0.98      1393\n",
      "   macro avg       0.99      0.92      0.95      1393\n",
      "weighted avg       0.98      0.98      0.98      1393\n",
      "\n"
     ]
    },
    {
     "data": {
      "text/html": [
       "<div>\n",
       "<style scoped>\n",
       "    .dataframe tbody tr th:only-of-type {\n",
       "        vertical-align: middle;\n",
       "    }\n",
       "\n",
       "    .dataframe tbody tr th {\n",
       "        vertical-align: top;\n",
       "    }\n",
       "\n",
       "    .dataframe thead tr th {\n",
       "        text-align: left;\n",
       "    }\n",
       "</style>\n",
       "<table border=\"1\" class=\"dataframe\">\n",
       "  <thead>\n",
       "    <tr>\n",
       "      <th></th>\n",
       "      <th></th>\n",
       "      <th colspan=\"2\" halign=\"left\">predicted</th>\n",
       "    </tr>\n",
       "    <tr>\n",
       "      <th></th>\n",
       "      <th></th>\n",
       "      <th>ham</th>\n",
       "      <th>spam</th>\n",
       "    </tr>\n",
       "  </thead>\n",
       "  <tbody>\n",
       "    <tr>\n",
       "      <th rowspan=\"2\" valign=\"top\">actual</th>\n",
       "      <th>ham</th>\n",
       "      <td>1223</td>\n",
       "      <td>0</td>\n",
       "    </tr>\n",
       "    <tr>\n",
       "      <th>spam</th>\n",
       "      <td>27</td>\n",
       "      <td>143</td>\n",
       "    </tr>\n",
       "  </tbody>\n",
       "</table>\n",
       "</div>"
      ],
      "text/plain": [
       "            predicted     \n",
       "                  ham spam\n",
       "actual ham       1223    0\n",
       "       spam        27  143"
      ]
     },
     "execution_count": 22,
     "metadata": {},
     "output_type": "execute_result"
    }
   ],
   "source": [
    "# print a confusion matrix and a classification report\n",
    "print(classification_report(labels, prediction))\n",
    "\n",
    "pd.DataFrame(\n",
    "    confusion_matrix(labels, prediction),\n",
    "    index = [['actual', 'actual'], ['ham', 'spam']],\n",
    "    columns = [['predicted', 'predicted'], ['ham', 'spam']])"
   ]
  }
 ],
 "metadata": {
  "kernelspec": {
   "display_name": "Python 3",
   "language": "python",
   "name": "python3"
  },
  "language_info": {
   "codemirror_mode": {
    "name": "ipython",
    "version": 3
   },
   "file_extension": ".py",
   "mimetype": "text/x-python",
   "name": "python",
   "nbconvert_exporter": "python",
   "pygments_lexer": "ipython3",
   "version": "3.7.6"
  },
  "papermill": {
   "duration": 184.687151,
   "end_time": "2020-10-09T04:40:20.498705",
   "environment_variables": {},
   "exception": null,
   "input_path": "__notebook__.ipynb",
   "output_path": "__notebook__.ipynb",
   "parameters": {},
   "start_time": "2020-10-09T04:37:15.811554",
   "version": "2.1.0"
  }
 },
 "nbformat": 4,
 "nbformat_minor": 4
}
